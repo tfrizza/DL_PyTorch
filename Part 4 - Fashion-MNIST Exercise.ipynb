{
 "cells": [
  {
   "cell_type": "markdown",
   "metadata": {},
   "source": [
    "# Classifying Fashion-MNIST\n",
    "\n",
    "Now it's your turn to build and train a neural network. You'll be using the [Fashion-MNIST dataset](https://github.com/zalandoresearch/fashion-mnist), a drop-in replacement for the MNIST dataset. MNIST is actually quite trivial with neural networks where you can easily achieve better than 97% accuracy. Fashion-MNIST is a set of 28x28 greyscale images of clothes. It's more complex than MNIST, so it's a better representation of the actual performance of your network, and a better representation of datasets you'll use in the real world.\n",
    "\n",
    "<img src='assets/fashion-mnist-sprite.png' width=500px>\n",
    "\n",
    "In this notebook, you'll build your own neural network. For the most part, you could just copy and paste the code from Part 3, but you wouldn't be learning. It's important for you to write the code yourself and get it to work. Feel free to consult the previous notebook though as you work through this.\n",
    "\n",
    "First off, let's load the dataset through torchvision."
   ]
  },
  {
   "cell_type": "code",
   "execution_count": 2,
   "metadata": {},
   "outputs": [
    {
     "name": "stdout",
     "output_type": "stream",
     "text": [
      "Downloading http://fashion-mnist.s3-website.eu-central-1.amazonaws.com/train-images-idx3-ubyte.gz\n",
      "Downloading http://fashion-mnist.s3-website.eu-central-1.amazonaws.com/train-labels-idx1-ubyte.gz\n",
      "Downloading http://fashion-mnist.s3-website.eu-central-1.amazonaws.com/t10k-images-idx3-ubyte.gz\n",
      "Downloading http://fashion-mnist.s3-website.eu-central-1.amazonaws.com/t10k-labels-idx1-ubyte.gz\n",
      "Processing...\n",
      "Done!\n"
     ]
    }
   ],
   "source": [
    "import torch\n",
    "from torchvision import datasets, transforms\n",
    "import helper\n",
    "\n",
    "# Define a transform to normalize the data\n",
    "transform = transforms.Compose([transforms.ToTensor(),\n",
    "                                transforms.Normalize((0.5, 0.5, 0.5), (0.5, 0.5, 0.5))])\n",
    "# Download and load the training data\n",
    "trainset = datasets.FashionMNIST('F_MNIST_data/', download=True, train=True, transform=transform)\n",
    "trainloader = torch.utils.data.DataLoader(trainset, batch_size=64, shuffle=True)\n",
    "\n",
    "# Download and load the test data\n",
    "testset = datasets.FashionMNIST('F_MNIST_data/', download=True, train=False, transform=transform)\n",
    "testloader = torch.utils.data.DataLoader(testset, batch_size=64, shuffle=True)"
   ]
  },
  {
   "cell_type": "markdown",
   "metadata": {},
   "source": [
    "Here we can see one of the images."
   ]
  },
  {
   "cell_type": "code",
   "execution_count": 5,
   "metadata": {},
   "outputs": [
    {
     "data": {
      "image/png": "[encoded data removed]",
      "text/plain": [
       "<Figure size 432x288 with 1 Axes>"
      ]
     },
     "metadata": {
      "needs_background": "light"
     },
     "output_type": "display_data"
    }
   ],
   "source": [
    "image, label = next(iter(trainloader))\n",
    "helper.imshow(image[0,:]);"
   ]
  },
  {
   "cell_type": "markdown",
   "metadata": {},
   "source": [
    "With the data loaded, it's time to import the necessary packages."
   ]
  },
  {
   "cell_type": "code",
   "execution_count": 6,
   "metadata": {},
   "outputs": [],
   "source": [
    "%matplotlib inline\n",
    "%config InlineBackend.figure_format = 'retina'\n",
    "\n",
    "import matplotlib.pyplot as plt\n",
    "import numpy as np\n",
    "import time\n",
    "\n",
    "import torch\n",
    "from torch import nn\n",
    "from torch import optim\n",
    "import torch.nn.functional as F\n",
    "from torchvision import datasets, transforms\n",
    "\n",
    "import helper"
   ]
  },
  {
   "cell_type": "markdown",
   "metadata": {},
   "source": [
    "## Building the network\n",
    "\n",
    "Here you should define your network. As with MNIST, each image is 28x28 which is a total of 784 pixels, and there are 10 classes. You should include at least one hidden layer. We suggest you use ReLU activations for the layers and to return the logits from the forward pass. It's up to you how many layers you add and the size of those layers."
   ]
  },
  {
   "cell_type": "code",
   "execution_count": 38,
   "metadata": {},
   "outputs": [
    {
     "data": {
      "text/plain": [
       "Sequential(\n",
       "  (0): Linear(in_features=784, out_features=128, bias=True)\n",
       "  (1): ReLU()\n",
       "  (2): Linear(in_features=128, out_features=64, bias=True)\n",
       "  (3): ReLU()\n",
       "  (4): Linear(in_features=64, out_features=10, bias=True)\n",
       "  (5): LogSoftmax()\n",
       ")"
      ]
     },
     "execution_count": 38,
     "metadata": {},
     "output_type": "execute_result"
    }
   ],
   "source": [
    "# TODO: Define your network architecture here\n",
    "model = nn.Sequential(\n",
    "            nn.Linear(784, 128),\n",
    "            nn.ReLU(),\n",
    "            nn.Linear(128, 64),\n",
    "            nn.ReLU(),\n",
    "            nn.Linear(64, 10),\n",
    "            nn.LogSoftmax()\n",
    "        )\n",
    "model"
   ]
  },
  {
   "cell_type": "markdown",
   "metadata": {},
   "source": [
    "# Train the network\n",
    "\n",
    "Now you should create your network and train it. First you'll want to define [the criterion](http://pytorch.org/docs/master/nn.html#loss-functions) ( something like `nn.CrossEntropyLoss`) and [the optimizer](http://pytorch.org/docs/master/optim.html) (typically `optim.SGD` or `optim.Adam`).\n",
    "\n",
    "Then write the training code. Remember the training pass is a fairly straightforward process:\n",
    "\n",
    "* Make a forward pass through the network to get the logits \n",
    "* Use the logits to calculate the loss\n",
    "* Perform a backward pass through the network with `loss.backward()` to calculate the gradients\n",
    "* Take a step with the optimizer to update the weights\n",
    "\n",
    "By adjusting the hyperparameters (hidden units, learning rate, etc), you should be able to get the training loss below 0.4."
   ]
  },
  {
   "cell_type": "code",
   "execution_count": 39,
   "metadata": {},
   "outputs": [],
   "source": [
    "# TODO: Create the network, define the criterion and optimizer\n",
    "criterion = nn.NLLLoss()\n",
    "optimizer = optim.Adam(model.parameters(), lr=0.001)"
   ]
  },
  {
   "cell_type": "code",
   "execution_count": 40,
   "metadata": {},
   "outputs": [
    {
     "name": "stderr",
     "output_type": "stream",
     "text": [
      "/Users/Tristan/anaconda3/envs/RL/lib/python3.6/site-packages/torch/nn/modules/container.py:92: UserWarning: Implicit dimension choice for log_softmax has been deprecated. Change the call to include dim=X as an argument.\n",
      "  input = module(input)\n"
     ]
    },
    {
     "name": "stdout",
     "output_type": "stream",
     "text": [
      "Epoch: 1/3...  Loss: 1.2257\n",
      "Epoch: 1/3...  Loss: 0.7114\n",
      "Epoch: 1/3...  Loss: 0.6055\n",
      "Epoch: 1/3...  Loss: 0.5800\n",
      "Epoch: 1/3...  Loss: 0.5460\n",
      "Epoch: 1/3...  Loss: 0.5099\n",
      "Epoch: 1/3...  Loss: 0.5324\n",
      "Epoch: 1/3...  Loss: 0.4683\n",
      "Epoch: 1/3...  Loss: 0.5027\n",
      "Epoch: 1/3...  Loss: 0.4958\n",
      "Epoch: 1/3...  Loss: 0.4641\n",
      "Epoch: 1/3...  Loss: 0.4560\n",
      "Epoch: 1/3...  Loss: 0.4448\n",
      "Epoch: 1/3...  Loss: 0.4619\n",
      "Epoch: 1/3...  Loss: 0.4272\n",
      "Epoch: 1/3...  Loss: 0.4481\n",
      "Epoch: 1/3...  Loss: 0.4342\n",
      "Epoch: 1/3...  Loss: 0.4483\n",
      "Epoch: 1/3...  Loss: 0.4548\n",
      "Epoch: 1/3...  Loss: 0.4394\n",
      "Epoch: 1/3...  Loss: 0.4596\n",
      "Epoch: 1/3...  Loss: 0.4031\n",
      "Epoch: 1/3...  Loss: 0.4260\n",
      "Epoch: 2/3...  Loss: 0.2158\n",
      "Epoch: 2/3...  Loss: 0.3864\n",
      "Epoch: 2/3...  Loss: 0.3897\n",
      "Epoch: 2/3...  Loss: 0.4046\n",
      "Epoch: 2/3...  Loss: 0.3810\n",
      "Epoch: 2/3...  Loss: 0.3902\n",
      "Epoch: 2/3...  Loss: 0.3893\n",
      "Epoch: 2/3...  Loss: 0.3756\n",
      "Epoch: 2/3...  Loss: 0.3801\n",
      "Epoch: 2/3...  Loss: 0.4041\n",
      "Epoch: 2/3...  Loss: 0.3612\n",
      "Epoch: 2/3...  Loss: 0.4023\n",
      "Epoch: 2/3...  Loss: 0.3961\n",
      "Epoch: 2/3...  Loss: 0.3609\n",
      "Epoch: 2/3...  Loss: 0.3894\n",
      "Epoch: 2/3...  Loss: 0.3508\n",
      "Epoch: 2/3...  Loss: 0.3488\n",
      "Epoch: 2/3...  Loss: 0.3575\n",
      "Epoch: 2/3...  Loss: 0.3668\n",
      "Epoch: 2/3...  Loss: 0.3881\n",
      "Epoch: 2/3...  Loss: 0.3783\n",
      "Epoch: 2/3...  Loss: 0.3758\n",
      "Epoch: 2/3...  Loss: 0.3717\n",
      "Epoch: 3/3...  Loss: 0.0291\n",
      "Epoch: 3/3...  Loss: 0.3533\n",
      "Epoch: 3/3...  Loss: 0.3669\n",
      "Epoch: 3/3...  Loss: 0.3381\n",
      "Epoch: 3/3...  Loss: 0.3477\n",
      "Epoch: 3/3...  Loss: 0.3639\n",
      "Epoch: 3/3...  Loss: 0.3408\n",
      "Epoch: 3/3...  Loss: 0.3335\n",
      "Epoch: 3/3...  Loss: 0.3491\n",
      "Epoch: 3/3...  Loss: 0.3255\n",
      "Epoch: 3/3...  Loss: 0.3326\n",
      "Epoch: 3/3...  Loss: 0.3441\n",
      "Epoch: 3/3...  Loss: 0.3670\n",
      "Epoch: 3/3...  Loss: 0.3468\n",
      "Epoch: 3/3...  Loss: 0.3462\n",
      "Epoch: 3/3...  Loss: 0.3369\n",
      "Epoch: 3/3...  Loss: 0.3323\n",
      "Epoch: 3/3...  Loss: 0.3361\n",
      "Epoch: 3/3...  Loss: 0.3297\n",
      "Epoch: 3/3...  Loss: 0.3475\n",
      "Epoch: 3/3...  Loss: 0.3203\n",
      "Epoch: 3/3...  Loss: 0.3387\n",
      "Epoch: 3/3...  Loss: 0.3266\n",
      "Epoch: 3/3...  Loss: 0.3357\n"
     ]
    }
   ],
   "source": [
    "# TODO: Train the network here\n",
    "epochs = 3\n",
    "steps = 0\n",
    "print_every = 40\n",
    "\n",
    "for e in range(epochs):\n",
    "    running_loss = 0\n",
    "    \n",
    "    # Do each minibatch\n",
    "    for images, labels in iter(trainloader):\n",
    "        steps += 1\n",
    "        # Flatten each image to 784 long vector\n",
    "        images.resize_(images.size()[0], 784)\n",
    "        optimizer.zero_grad()\n",
    "        \n",
    "        # Forward and backprop\n",
    "        output = model.forward(images)\n",
    "        loss = criterion(output, labels)\n",
    "        loss.backward()\n",
    "        optimizer.step()\n",
    "        \n",
    "        running_loss += loss.item()\n",
    "        \n",
    "        if steps % print_every == 0:\n",
    "            print(\"Epoch: {}/{}... \".format(e+1, epochs),\n",
    "                  \"Loss: {:.4f}\".format(running_loss/print_every))\n",
    "            running_loss = 0"
   ]
  },
  {
   "cell_type": "code",
   "execution_count": 58,
   "metadata": {},
   "outputs": [
    {
     "data": {
      "image/png": "[encoded data removed]",
      "text/plain": [
       "<Figure size 432x648 with 2 Axes>"
      ]
     },
     "metadata": {
      "image/png": {
       "height": 206,
       "width": 423
      },
      "needs_background": "light"
     },
     "output_type": "display_data"
    }
   ],
   "source": [
    "# Test out your network!\n",
    "\n",
    "dataiter = iter(testloader)\n",
    "images, labels = dataiter.next()\n",
    "img = images[0]\n",
    "# Convert 2D image to 1D vector\n",
    "img = img.resize_(1, 784)\n",
    "\n",
    "# TODO: Calculate the class probabilities (softmax) for img\n",
    "with torch.no_grad():\n",
    "    logits = model.forward(img)\n",
    "ps = F.softmax(logits, dim=1)\n",
    "\n",
    "# Plot the image and probabilities\n",
    "helper.view_classify(img.resize_(1, 28, 28), ps, version='Fashion')"
   ]
  },
  {
   "cell_type": "markdown",
   "metadata": {},
   "source": [
    "Now that your network is trained, you'll want to save it to disk so you can load it later instead of training it again. Obviously, it's impractical to train a network every time you need one. In practice, you'll train it once, save the model, then reload it for further training or making predictions. In the next part, I'll show you how to save and load trained models."
   ]
  },
  {
   "cell_type": "code",
   "execution_count": null,
   "metadata": {},
   "outputs": [],
   "source": []
  }
 ],
 "metadata": {
  "kernelspec": {
   "display_name": "Python 3",
   "language": "python",
   "name": "python3"
  },
  "language_info": {
   "codemirror_mode": {
    "name": "ipython",
    "version": 3
   },
   "file_extension": ".py",
   "mimetype": "text/x-python",
   "name": "python",
   "nbconvert_exporter": "python",
   "pygments_lexer": "ipython3",
   "version": "3.6.8"
  }
 },
 "nbformat": 4,
 "nbformat_minor": 2
}
